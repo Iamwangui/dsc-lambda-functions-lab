{
 "cells": [
  {
   "cell_type": "markdown",
   "metadata": {},
   "source": [
    "# Lambda Functions - Lab\n",
    "\n",
    "## Introduction\n",
    "\n",
    "In this lab, you'll get some hands-on practice creating and using lambda functions.\n",
    "\n",
    "## Objectives\n",
    "\n",
    "In this lab you will:\n",
    "\n",
    "* Create lambda functions to use as arguments of other functions   \n",
    "* Use the `.map()` or `.apply()` method to apply a function to a pandas series or DataFrame"
   ]
  },
  {
   "cell_type": "markdown",
   "metadata": {},
   "source": [
    "## Lambda Functions"
   ]
  },
  {
   "cell_type": "code",
   "execution_count": 1,
   "metadata": {},
   "outputs": [
    {
     "data": {
      "application/vnd.microsoft.datawrangler.viewer.v0+json": {
       "columns": [
        {
         "name": "index",
         "rawType": "int64",
         "type": "integer"
        },
        {
         "name": "business_id",
         "rawType": "object",
         "type": "string"
        },
        {
         "name": "cool",
         "rawType": "int64",
         "type": "integer"
        },
        {
         "name": "date",
         "rawType": "object",
         "type": "string"
        },
        {
         "name": "funny",
         "rawType": "int64",
         "type": "integer"
        },
        {
         "name": "review_id",
         "rawType": "object",
         "type": "string"
        },
        {
         "name": "stars",
         "rawType": "int64",
         "type": "integer"
        },
        {
         "name": "text",
         "rawType": "object",
         "type": "string"
        },
        {
         "name": "useful",
         "rawType": "int64",
         "type": "integer"
        },
        {
         "name": "user_id",
         "rawType": "object",
         "type": "string"
        }
       ],
       "ref": "07d8112b-84a0-4190-9614-6c9d41ecf511",
       "rows": [
        [
         "1",
         "pomGBqfbxcqPv14c3XH-ZQ",
         "0",
         "2012-11-13",
         "0",
         "dDl8zu1vWPdKGihJrwQbpw",
         "5",
         "I love this place! My fiance And I go here atleast once a week. The portions are huge! Food is amazing. I love their carne asada. They have great lunch specials... Leticia is super nice and cares about what you think of her restaurant. You have to try their cheese enchiladas too the sauce is different And amazing!!!",
         "0",
         "msQe1u7Z_XuqjGoqhB0J5g"
        ],
        [
         "2",
         "jtQARsP6P-LbkyjbO1qNGg",
         "1",
         "2014-10-23",
         "1",
         "LZp4UX5zK3e-c5ZGSeo3kA",
         "1",
         "Terrible. Dry corn bread. Rib tips were all fat and mushy and had no flavor. If you want bbq in this neighborhood go to john mulls roadkill grill. Trust me.",
         "3",
         "msQe1u7Z_XuqjGoqhB0J5g"
        ]
       ],
       "shape": {
        "columns": 9,
        "rows": 2
       }
      },
      "text/html": [
       "<div>\n",
       "<style scoped>\n",
       "    .dataframe tbody tr th:only-of-type {\n",
       "        vertical-align: middle;\n",
       "    }\n",
       "\n",
       "    .dataframe tbody tr th {\n",
       "        vertical-align: top;\n",
       "    }\n",
       "\n",
       "    .dataframe thead th {\n",
       "        text-align: right;\n",
       "    }\n",
       "</style>\n",
       "<table border=\"1\" class=\"dataframe\">\n",
       "  <thead>\n",
       "    <tr style=\"text-align: right;\">\n",
       "      <th></th>\n",
       "      <th>business_id</th>\n",
       "      <th>cool</th>\n",
       "      <th>date</th>\n",
       "      <th>funny</th>\n",
       "      <th>review_id</th>\n",
       "      <th>stars</th>\n",
       "      <th>text</th>\n",
       "      <th>useful</th>\n",
       "      <th>user_id</th>\n",
       "    </tr>\n",
       "  </thead>\n",
       "  <tbody>\n",
       "    <tr>\n",
       "      <th>1</th>\n",
       "      <td>pomGBqfbxcqPv14c3XH-ZQ</td>\n",
       "      <td>0</td>\n",
       "      <td>2012-11-13</td>\n",
       "      <td>0</td>\n",
       "      <td>dDl8zu1vWPdKGihJrwQbpw</td>\n",
       "      <td>5</td>\n",
       "      <td>I love this place! My fiance And I go here atl...</td>\n",
       "      <td>0</td>\n",
       "      <td>msQe1u7Z_XuqjGoqhB0J5g</td>\n",
       "    </tr>\n",
       "    <tr>\n",
       "      <th>2</th>\n",
       "      <td>jtQARsP6P-LbkyjbO1qNGg</td>\n",
       "      <td>1</td>\n",
       "      <td>2014-10-23</td>\n",
       "      <td>1</td>\n",
       "      <td>LZp4UX5zK3e-c5ZGSeo3kA</td>\n",
       "      <td>1</td>\n",
       "      <td>Terrible. Dry corn bread. Rib tips were all fa...</td>\n",
       "      <td>3</td>\n",
       "      <td>msQe1u7Z_XuqjGoqhB0J5g</td>\n",
       "    </tr>\n",
       "  </tbody>\n",
       "</table>\n",
       "</div>"
      ],
      "text/plain": [
       "              business_id  cool        date  funny               review_id  \\\n",
       "1  pomGBqfbxcqPv14c3XH-ZQ     0  2012-11-13      0  dDl8zu1vWPdKGihJrwQbpw   \n",
       "2  jtQARsP6P-LbkyjbO1qNGg     1  2014-10-23      1  LZp4UX5zK3e-c5ZGSeo3kA   \n",
       "\n",
       "   stars                                               text  useful  \\\n",
       "1      5  I love this place! My fiance And I go here atl...       0   \n",
       "2      1  Terrible. Dry corn bread. Rib tips were all fa...       3   \n",
       "\n",
       "                  user_id  \n",
       "1  msQe1u7Z_XuqjGoqhB0J5g  \n",
       "2  msQe1u7Z_XuqjGoqhB0J5g  "
      ]
     },
     "execution_count": 1,
     "metadata": {},
     "output_type": "execute_result"
    }
   ],
   "source": [
    "import pandas as pd\n",
    "df = pd.read_csv('Yelp_Reviews.csv', index_col=0)\n",
    "df.head(2)"
   ]
  },
  {
   "cell_type": "markdown",
   "metadata": {},
   "source": [
    "## Simple arithmetic\n",
    "\n",
    "Use a lambda function to create a new column called `'stars_squared'` by squaring the stars column."
   ]
  },
  {
   "cell_type": "code",
   "execution_count": 6,
   "metadata": {},
   "outputs": [
    {
     "data": {
      "application/vnd.microsoft.datawrangler.viewer.v0+json": {
       "columns": [
        {
         "name": "index",
         "rawType": "int64",
         "type": "integer"
        },
        {
         "name": "business_id",
         "rawType": "object",
         "type": "string"
        },
        {
         "name": "cool",
         "rawType": "int64",
         "type": "integer"
        },
        {
         "name": "date",
         "rawType": "object",
         "type": "string"
        },
        {
         "name": "funny",
         "rawType": "int64",
         "type": "integer"
        },
        {
         "name": "review_id",
         "rawType": "object",
         "type": "string"
        },
        {
         "name": "stars",
         "rawType": "int64",
         "type": "integer"
        },
        {
         "name": "text",
         "rawType": "object",
         "type": "string"
        },
        {
         "name": "useful",
         "rawType": "int64",
         "type": "integer"
        },
        {
         "name": "user_id",
         "rawType": "object",
         "type": "string"
        },
        {
         "name": "stars_squared",
         "rawType": "int64",
         "type": "integer"
        }
       ],
       "ref": "27630a2d-79d5-4ff7-8191-49eaf7cdffd6",
       "rows": [
        [
         "4674",
         "4KfDcE9iU2isFpoaKeDpgw",
         "0",
         "2012-06-14",
         "0",
         "rFH9iSvRmdm5LtDdsYwwpA",
         "5",
         "Great place to take your kids and interesting for adults to.",
         "0",
         "9gYbRvijurhrnC6yPRlaUw",
         "25"
        ],
        [
         "4719",
         "P4Plzlfm4uJjNmH3wY4W1Q",
         "0",
         "2014-01-14",
         "0",
         "IobIRp1mGJiLg4B6wHAvqQ",
         "2",
         "While I will continue to eat at this establishment, I will only do so because it is the closet Chicago food place near my work, otherwise I would completely avoid this place due to its outrageous pricing. There are better tasting and cheaper options all over the valley.",
         "2",
         "2hESE1gvZl3Ttqc5zFmkcg",
         "4"
        ],
        [
         "3440",
         "nW45ez1L6U4PsYhV1BTrGQ",
         "0",
         "2012-05-19",
         "0",
         "abStF7f3_IyfZmOP82baZQ",
         "5",
         "H&F Jewellery is amazing!\r\n\r\nI had given my husband some ideas of engagement ring designs I liked and after going to the traditional big box jewelry stores, a friend of ours recommended H&F.\r\n\r\nThe customer service here is great - they are extremely knowledgeable, attentive, honest and the prices are very reasonable! My husband surprised me with a custom designed engagement ring and I love it!\r\n\r\nWe went back for our wedding bands and I worked with the gemologist there to create 4 beautiful bridesmaid gifts - necklaces with a pearl and white gold heart pendant - my girls loved them!\r\n\r\nWe've recommended 5 other friends to H&F - they've all been satisfied with their engagement rings and wedding bands.\r\n\r\nGo to H&F for all your jewellery needs - you won't be disappointed!!",
         "1",
         "PkRFSQgSfca9Tamq7b2LdQ",
         "25"
        ],
        [
         "4812",
         "e13SEvJud_vgeDR_doL4sQ",
         "0",
         "2013-03-01",
         "0",
         "lUV1KEm4cl4mluSEFharFQ",
         "4",
         "We loved the food. The service was good and we were grateful to be seated right away. We have eaten Mexican and TexMex food while living and visiting in Texas.  The food was very good and authentic.",
         "0",
         "NW6gHZ8PlYl1STK1A1Ixeg",
         "16"
        ],
        [
         "1970",
         "9NBkIExYYz3w9O5JdzDOMA",
         "0",
         "2013-11-03",
         "0",
         "RT20_fUNJJNqMNvvjviNbQ",
         "1",
         "Hit or miss. I used these guys twice in a day and the cab out was great! Called them when I needed to be picked up and was told 20-30. I waited 55 minutes and then saw the cab cruise by not even looking for a pick up and no stop, no call nothing. So I call the dispatch to let them know and listend to the driver flat out lie to dispatch that I was not there to pick up. Dispatch told me I had to wait for another cab because the one that just drove by was unavailable.  He was sitting at the light on the other side of the lot. On top of that, $20 to go 4 miles? I'll be renting a car tomorrow.",
         "1",
         "ROw7gCGzmg093vdNs8mrbQ",
         "1"
        ],
        [
         "689",
         "BTcY04QFiS1uh-RpkR7rAg",
         "1",
         "2013-06-02",
         "0",
         "6_A58CCY8SHB7r-Wu7-A5g",
         "5",
         "Came here with my 2 year old daughter for our first date last night.  Halfway through the movie she got tired ad wanted to go home and when the front desk saw us leave, she asked if everything was ok.  We old her what happened and she gave us 2 free passes to come back again!  Awesome!  Clean place, great seating!",
         "2",
         "q3AiAe-AcpDrNsdZf8nCvQ",
         "25"
        ],
        [
         "4874",
         "t0T_4MM4EUHbCzBTF11FHA",
         "0",
         "2016-08-14",
         "0",
         "KqQwNyfoFiJOw911mrULIg",
         "5",
         "Great little restaurant. Not to many tables and its byob, which is awesome. We had the Pad Thai and the coconut curry noodles and it was absolutely fantastic. I would absolutely recommend this on a cool day when you want to warm up!",
         "0",
         "NJxaA7q9BhqaDrFpfR2Jeg",
         "25"
        ],
        [
         "564",
         "5XYR6doRa5Nj1JMfSDei6A",
         "1",
         "2016-06-14",
         "0",
         "xlGJkxoIBl8XH8wVsPZpnw",
         "5",
         "Always great friendly service and fresh baked bread and desserts everyday. \r\n\r\nHighly recommend the custard cakes they are the closest thing I have ever tried to the original Pastéis de Belém in Lisboa  \r\n\r\nThe rice flour cake is also really good and a good option for those whom do not like cake too sweet. \r\n\r\n\r\nThe bean cakes are great here too!  orange, almond, and a few others I have tried are all good. \r\n\r\n\r\nCan't go wrong with Nova Era",
         "0",
         "kBNFdviedCPFWyR-wVaAzw",
         "25"
        ],
        [
         "3458",
         "aLcFhMe6DDJ430zelCpd2A",
         "0",
         "2013-10-02",
         "0",
         "kwiEG_KCpDB6aK5fTSM7iw",
         "2",
         "We were expecting amazing Thai food after all the reviews that we read and the fact that this place was voted one of the top 100 restaurants in Toronto. \r\n\r\nThis was disappointing. \r\n\r\nFirst off, it was really awkward sitting on the benches outside on the sidewalk, as people walked past us while to wait for our table. \r\n\r\nSecond, when we were seated, it was so loud. It felt like we were in a high school cafeteria. There was so much noise from people talking over each other and from the loud music. We were just happy that we didn't have to share a table with another couple. \r\n\r\nFinally - Food was mediocre. I was extremely disappointed with the curry egg noodle dish. It was awkward to eat and I felt sick about half way through because the curry was too rich. On the flip side - I had a taste of my company's dish and it wasn't that great either - he had the beef stir fry dish with rice. The meat was nice and tender, but it wasn't flavourful. \r\n\r\nWasn't worth the hype, unfortunately.",
         "1",
         "PkRFSQgSfca9Tamq7b2LdQ",
         "4"
        ],
        [
         "4206",
         "WdBWhGe4Siqg3IYTc4_K4A",
         "0",
         "2016-08-15",
         "0",
         "O0ttxNGxHKtD8Cnnwc_j1g",
         "1",
         "Sunday at 8p. Not many people here at all. We were seated for 10-15 min, and no one came to take our drink order. We were nicely greeted at the front though. Guess there was a disconnect between the hostess and waitstaff.",
         "0",
         "ic9zIsm7zoxUm3Axyegx8g",
         "1"
        ]
       ],
       "shape": {
        "columns": 10,
        "rows": 10
       }
      },
      "text/html": [
       "<div>\n",
       "<style scoped>\n",
       "    .dataframe tbody tr th:only-of-type {\n",
       "        vertical-align: middle;\n",
       "    }\n",
       "\n",
       "    .dataframe tbody tr th {\n",
       "        vertical-align: top;\n",
       "    }\n",
       "\n",
       "    .dataframe thead th {\n",
       "        text-align: right;\n",
       "    }\n",
       "</style>\n",
       "<table border=\"1\" class=\"dataframe\">\n",
       "  <thead>\n",
       "    <tr style=\"text-align: right;\">\n",
       "      <th></th>\n",
       "      <th>business_id</th>\n",
       "      <th>cool</th>\n",
       "      <th>date</th>\n",
       "      <th>funny</th>\n",
       "      <th>review_id</th>\n",
       "      <th>stars</th>\n",
       "      <th>text</th>\n",
       "      <th>useful</th>\n",
       "      <th>user_id</th>\n",
       "      <th>stars_squared</th>\n",
       "    </tr>\n",
       "  </thead>\n",
       "  <tbody>\n",
       "    <tr>\n",
       "      <th>4674</th>\n",
       "      <td>4KfDcE9iU2isFpoaKeDpgw</td>\n",
       "      <td>0</td>\n",
       "      <td>2012-06-14</td>\n",
       "      <td>0</td>\n",
       "      <td>rFH9iSvRmdm5LtDdsYwwpA</td>\n",
       "      <td>5</td>\n",
       "      <td>Great place to take your kids and interesting ...</td>\n",
       "      <td>0</td>\n",
       "      <td>9gYbRvijurhrnC6yPRlaUw</td>\n",
       "      <td>25</td>\n",
       "    </tr>\n",
       "    <tr>\n",
       "      <th>4719</th>\n",
       "      <td>P4Plzlfm4uJjNmH3wY4W1Q</td>\n",
       "      <td>0</td>\n",
       "      <td>2014-01-14</td>\n",
       "      <td>0</td>\n",
       "      <td>IobIRp1mGJiLg4B6wHAvqQ</td>\n",
       "      <td>2</td>\n",
       "      <td>While I will continue to eat at this establish...</td>\n",
       "      <td>2</td>\n",
       "      <td>2hESE1gvZl3Ttqc5zFmkcg</td>\n",
       "      <td>4</td>\n",
       "    </tr>\n",
       "    <tr>\n",
       "      <th>3440</th>\n",
       "      <td>nW45ez1L6U4PsYhV1BTrGQ</td>\n",
       "      <td>0</td>\n",
       "      <td>2012-05-19</td>\n",
       "      <td>0</td>\n",
       "      <td>abStF7f3_IyfZmOP82baZQ</td>\n",
       "      <td>5</td>\n",
       "      <td>H&amp;F Jewellery is amazing!\\r\\n\\r\\nI had given m...</td>\n",
       "      <td>1</td>\n",
       "      <td>PkRFSQgSfca9Tamq7b2LdQ</td>\n",
       "      <td>25</td>\n",
       "    </tr>\n",
       "    <tr>\n",
       "      <th>4812</th>\n",
       "      <td>e13SEvJud_vgeDR_doL4sQ</td>\n",
       "      <td>0</td>\n",
       "      <td>2013-03-01</td>\n",
       "      <td>0</td>\n",
       "      <td>lUV1KEm4cl4mluSEFharFQ</td>\n",
       "      <td>4</td>\n",
       "      <td>We loved the food. The service was good and we...</td>\n",
       "      <td>0</td>\n",
       "      <td>NW6gHZ8PlYl1STK1A1Ixeg</td>\n",
       "      <td>16</td>\n",
       "    </tr>\n",
       "    <tr>\n",
       "      <th>1970</th>\n",
       "      <td>9NBkIExYYz3w9O5JdzDOMA</td>\n",
       "      <td>0</td>\n",
       "      <td>2013-11-03</td>\n",
       "      <td>0</td>\n",
       "      <td>RT20_fUNJJNqMNvvjviNbQ</td>\n",
       "      <td>1</td>\n",
       "      <td>Hit or miss. I used these guys twice in a day ...</td>\n",
       "      <td>1</td>\n",
       "      <td>ROw7gCGzmg093vdNs8mrbQ</td>\n",
       "      <td>1</td>\n",
       "    </tr>\n",
       "    <tr>\n",
       "      <th>689</th>\n",
       "      <td>BTcY04QFiS1uh-RpkR7rAg</td>\n",
       "      <td>1</td>\n",
       "      <td>2013-06-02</td>\n",
       "      <td>0</td>\n",
       "      <td>6_A58CCY8SHB7r-Wu7-A5g</td>\n",
       "      <td>5</td>\n",
       "      <td>Came here with my 2 year old daughter for our ...</td>\n",
       "      <td>2</td>\n",
       "      <td>q3AiAe-AcpDrNsdZf8nCvQ</td>\n",
       "      <td>25</td>\n",
       "    </tr>\n",
       "    <tr>\n",
       "      <th>4874</th>\n",
       "      <td>t0T_4MM4EUHbCzBTF11FHA</td>\n",
       "      <td>0</td>\n",
       "      <td>2016-08-14</td>\n",
       "      <td>0</td>\n",
       "      <td>KqQwNyfoFiJOw911mrULIg</td>\n",
       "      <td>5</td>\n",
       "      <td>Great little restaurant. Not to many tables an...</td>\n",
       "      <td>0</td>\n",
       "      <td>NJxaA7q9BhqaDrFpfR2Jeg</td>\n",
       "      <td>25</td>\n",
       "    </tr>\n",
       "    <tr>\n",
       "      <th>564</th>\n",
       "      <td>5XYR6doRa5Nj1JMfSDei6A</td>\n",
       "      <td>1</td>\n",
       "      <td>2016-06-14</td>\n",
       "      <td>0</td>\n",
       "      <td>xlGJkxoIBl8XH8wVsPZpnw</td>\n",
       "      <td>5</td>\n",
       "      <td>Always great friendly service and fresh baked ...</td>\n",
       "      <td>0</td>\n",
       "      <td>kBNFdviedCPFWyR-wVaAzw</td>\n",
       "      <td>25</td>\n",
       "    </tr>\n",
       "    <tr>\n",
       "      <th>3458</th>\n",
       "      <td>aLcFhMe6DDJ430zelCpd2A</td>\n",
       "      <td>0</td>\n",
       "      <td>2013-10-02</td>\n",
       "      <td>0</td>\n",
       "      <td>kwiEG_KCpDB6aK5fTSM7iw</td>\n",
       "      <td>2</td>\n",
       "      <td>We were expecting amazing Thai food after all ...</td>\n",
       "      <td>1</td>\n",
       "      <td>PkRFSQgSfca9Tamq7b2LdQ</td>\n",
       "      <td>4</td>\n",
       "    </tr>\n",
       "    <tr>\n",
       "      <th>4206</th>\n",
       "      <td>WdBWhGe4Siqg3IYTc4_K4A</td>\n",
       "      <td>0</td>\n",
       "      <td>2016-08-15</td>\n",
       "      <td>0</td>\n",
       "      <td>O0ttxNGxHKtD8Cnnwc_j1g</td>\n",
       "      <td>1</td>\n",
       "      <td>Sunday at 8p. Not many people here at all. We ...</td>\n",
       "      <td>0</td>\n",
       "      <td>ic9zIsm7zoxUm3Axyegx8g</td>\n",
       "      <td>1</td>\n",
       "    </tr>\n",
       "  </tbody>\n",
       "</table>\n",
       "</div>"
      ],
      "text/plain": [
       "                 business_id  cool        date  funny               review_id  \\\n",
       "4674  4KfDcE9iU2isFpoaKeDpgw     0  2012-06-14      0  rFH9iSvRmdm5LtDdsYwwpA   \n",
       "4719  P4Plzlfm4uJjNmH3wY4W1Q     0  2014-01-14      0  IobIRp1mGJiLg4B6wHAvqQ   \n",
       "3440  nW45ez1L6U4PsYhV1BTrGQ     0  2012-05-19      0  abStF7f3_IyfZmOP82baZQ   \n",
       "4812  e13SEvJud_vgeDR_doL4sQ     0  2013-03-01      0  lUV1KEm4cl4mluSEFharFQ   \n",
       "1970  9NBkIExYYz3w9O5JdzDOMA     0  2013-11-03      0  RT20_fUNJJNqMNvvjviNbQ   \n",
       "689   BTcY04QFiS1uh-RpkR7rAg     1  2013-06-02      0  6_A58CCY8SHB7r-Wu7-A5g   \n",
       "4874  t0T_4MM4EUHbCzBTF11FHA     0  2016-08-14      0  KqQwNyfoFiJOw911mrULIg   \n",
       "564   5XYR6doRa5Nj1JMfSDei6A     1  2016-06-14      0  xlGJkxoIBl8XH8wVsPZpnw   \n",
       "3458  aLcFhMe6DDJ430zelCpd2A     0  2013-10-02      0  kwiEG_KCpDB6aK5fTSM7iw   \n",
       "4206  WdBWhGe4Siqg3IYTc4_K4A     0  2016-08-15      0  O0ttxNGxHKtD8Cnnwc_j1g   \n",
       "\n",
       "      stars                                               text  useful  \\\n",
       "4674      5  Great place to take your kids and interesting ...       0   \n",
       "4719      2  While I will continue to eat at this establish...       2   \n",
       "3440      5  H&F Jewellery is amazing!\\r\\n\\r\\nI had given m...       1   \n",
       "4812      4  We loved the food. The service was good and we...       0   \n",
       "1970      1  Hit or miss. I used these guys twice in a day ...       1   \n",
       "689       5  Came here with my 2 year old daughter for our ...       2   \n",
       "4874      5  Great little restaurant. Not to many tables an...       0   \n",
       "564       5  Always great friendly service and fresh baked ...       0   \n",
       "3458      2  We were expecting amazing Thai food after all ...       1   \n",
       "4206      1  Sunday at 8p. Not many people here at all. We ...       0   \n",
       "\n",
       "                     user_id  stars_squared  \n",
       "4674  9gYbRvijurhrnC6yPRlaUw             25  \n",
       "4719  2hESE1gvZl3Ttqc5zFmkcg              4  \n",
       "3440  PkRFSQgSfca9Tamq7b2LdQ             25  \n",
       "4812  NW6gHZ8PlYl1STK1A1Ixeg             16  \n",
       "1970  ROw7gCGzmg093vdNs8mrbQ              1  \n",
       "689   q3AiAe-AcpDrNsdZf8nCvQ             25  \n",
       "4874  NJxaA7q9BhqaDrFpfR2Jeg             25  \n",
       "564   kBNFdviedCPFWyR-wVaAzw             25  \n",
       "3458  PkRFSQgSfca9Tamq7b2LdQ              4  \n",
       "4206  ic9zIsm7zoxUm3Axyegx8g              1  "
      ]
     },
     "execution_count": 6,
     "metadata": {},
     "output_type": "execute_result"
    }
   ],
   "source": [
    "# Your code here\n",
    "\n",
    "df['stars_squared'] = df['stars'].map(lambda x : x**2)\n",
    "df.tail(10)"
   ]
  },
  {
   "cell_type": "markdown",
   "metadata": {},
   "source": [
    "## Dates\n",
    "Select the month from the date string using a lambda function."
   ]
  },
  {
   "cell_type": "code",
   "execution_count": null,
   "metadata": {},
   "outputs": [
    {
     "data": {
      "application/vnd.microsoft.datawrangler.viewer.v0+json": {
       "columns": [
        {
         "name": "index",
         "rawType": "int64",
         "type": "integer"
        },
        {
         "name": "date",
         "rawType": "object",
         "type": "string"
        }
       ],
       "ref": "d9016a89-b3fa-403b-9957-ab5afa33fa64",
       "rows": [
        [
         "1",
         "11"
        ],
        [
         "2",
         "10"
        ],
        [
         "4",
         "09"
        ],
        [
         "5",
         "02"
        ],
        [
         "10",
         "06"
        ]
       ],
       "shape": {
        "columns": 1,
        "rows": 5
       }
      },
      "text/plain": [
       "1     11\n",
       "2     10\n",
       "4     09\n",
       "5     02\n",
       "10    06\n",
       "Name: date, dtype: object"
      ]
     },
     "execution_count": 19,
     "metadata": {},
     "output_type": "execute_result"
    }
   ],
   "source": [
    "# Your code here\n",
    "df['date'].map(lambda x: x[5:7]).head()  #from index 5 to index 6"
   ]
  },
  {
   "cell_type": "markdown",
   "metadata": {},
   "source": [
    "## What is the average number of words for a yelp review?\n",
    "Do this with a single line of code."
   ]
  },
  {
   "cell_type": "code",
   "execution_count": 21,
   "metadata": {},
   "outputs": [
    {
     "data": {
      "application/vnd.microsoft.datawrangler.viewer.v0+json": {
       "columns": [
        {
         "name": "index",
         "rawType": "int64",
         "type": "integer"
        },
        {
         "name": "text",
         "rawType": "object",
         "type": "string"
        }
       ],
       "ref": "a20c52de-0f5d-4ffb-b09a-373e6c5f03d9",
       "rows": [
        [
         "1",
         "I love this place! My fiance And I go here atleast once a week. The portions are huge! Food is amazing. I love their carne asada. They have great lunch specials... Leticia is super nice and cares about what you think of her restaurant. You have to try their cheese enchiladas too the sauce is different And amazing!!!"
        ],
        [
         "2",
         "Terrible. Dry corn bread. Rib tips were all fat and mushy and had no flavor. If you want bbq in this neighborhood go to john mulls roadkill grill. Trust me."
        ],
        [
         "4",
         "Delicious healthy food. The steak is amazing. Fish and pork are awesome too. Service is above and beyond. Not a bad thing to say about this place. Worth every penny!"
        ],
        [
         "5",
         "This place sucks. The customer service is horrible. They dont serve food unless you order a pizza from a neighboring restaurant. Who does that? They dont control their crowd. Many times I've gone I've seen fights. The bartenders suck - I've almost got in a fight with one because she was a complete bitch. Refused to serve me a drink because she was \"busy\" celebrating her friends birthday BEHIND THE BAR. This place is ridiculous. I will NEVER go there again.. EVER."
        ],
        [
         "10",
         "I have been an Emerald Club member for a number of years.  I have always been very satisfied with their vehicles and customer service.  This recent visit to Pittsburgh was no exception."
        ],
        [
         "11",
         "The score should be negative. Its HORRIBLE. The have like 6-7 items in their buffet. No naans or salad. The items were either bland or stale. My friend had a potato curry which was completely stale without salt. The biriyani was okayish but bland. Would never recommend to anyone."
        ],
        [
         "12",
         "I went there twice and I am pretty happy with my haircut. The people are  really friendly. Would definitely go again."
        ],
        [
         "19",
         "Finally! After trying many Mexican restaurants all thru Phoenix & Scottsdale we found an authentic Mexican restaurant that was AMAZING! Fresh tortilla chip & salsa ready and waiting at the table when we sat down. Food was incredible! I ordered the combo with a beef tamale with red sauce & chicken enchilada. Both were full of meat from beginning to end & had so much flavor! Highly recommend this place"
        ],
        [
         "25",
         "I have to write a review on the Fractured Prune. First off I love doughnuts second I used to work in a bakery. So I know a little about the almighty doughnut. I was there this past Thursday night at Westgate where I was having a nice dinner at Opah Life. I wanted a little desert so I went to this doughnut shop it seemed clean enough so I made my selections and took them home. Mistake should have eaten one there I would have ask for my money back. I took a bite out of each on to confirm what I thought they were the worst doughnuts I have ever had. Horrible not sure if the oils was rancid or not hot enough either way eat at your own risk."
        ],
        [
         "26",
         "I wish i could tell you all about the food but there was problem. My friend and went there for dinner we were seated quickly unfortunately it was in middle of the empty dinning room so we asked to be moved to the side which we were. Upon sitting down we were told we could only have one of the very small table tops there were two together so the hostess told us the manager said we couldn't use two table tops in the empty restaurant. So we got up and left. With the manager chasing us blaming the hostess for the the ridiculous action. Needles to say we will never return."
        ],
        [
         "27",
         "Wonderful! One of my favorite places. BBQ is expertly cooked and service is always prompt. The price is right."
        ],
        [
         "28",
         "The price is about the same as Quizinos. The sandwich was great! They have a live musician so it is kind of loud. It was a good experience."
        ],
        [
         "29",
         "The food was ok. You get a lot of food for the price. There is bot a lot of seating."
        ],
        [
         "30",
         "The staff were friendly and helpful. The food was fabulous. Our whole experience was awesome!"
        ],
        [
         "31",
         "The staff were very helpful. We painted pottery which took about 2 hours. It was a lot of fun and we received our pottery with in 3 days."
        ],
        [
         "32",
         "Limited vegetarian options. Ordered Greek salad but it was sub-par and priced at a ridiculous (almost) thirteen dollars. Will be skipping this joint when traveling through this airport the next time."
        ],
        [
         "35",
         "I trust my vehicles here. Comparable prices. Mike can always give me good advice. Work always done on time...clean. Never had to send back with any problems. My cars run great."
        ],
        [
         "40",
         "This place doesn't even deserve 1 star. Horrible service! The service manager was rude and unprofessional. He shouldn't even have a job after the way he spoke to customers. Marcus Lamonis needs to step in and end this location. Repairs that were suppose to be done never were completed."
        ],
        [
         "41",
         "The butter burger was cooked perfectly and juicy! The ice cream here is the best I've had! This location is very clean and staff was friendly!"
        ],
        [
         "42",
         "Best location ever! I love love love the manager Jess. She's super great and always helpful. She always helps me find what I'm looking for and has the best suggestions for gifts. I will drive the half hour out of the way to go to this location!"
        ],
        [
         "74",
         "This was a real fun time. Lots of laughs and entertainment. Love that the cast interactions with all guests in a semi intimate setting. Each course is delivered between scenes and you're given time to eat so you don't miss the show. \r\n\r\nFood was pretty decent as well. Like the salad dressing and love the sauce on the chicken. Bring cash for the bar and especially for the tip. Cast/staff work hard and deserve it :)\r\n\r\n4 stars since I'm bummed there were no mojitos."
        ],
        [
         "79",
         "Horrible. The smart ones have closed their account. Tellers don't know how to read a day drop envelope that clearly reads MORTGAGE PAYMENT in front and back with the full loan number on it. Money was sitting in the account and in the meantime my mortgage was late. This has happened 4 times. 4 TIMES. \r\n\r\nManager doesn't take accountability for the lack of attention to detail of his staff or their errors.  Tried to blame me because they didnt believe I put anything on the envelope. Account numbers and account holder names sitting all over Christopher the teller's desk. People wonder why your accounts are compromised? Manager saw it and did nothing. \r\n\r\nBe smart take you money out and run."
        ],
        [
         "83",
         "Love the 'old school' ambiance. Friendly staff. Have been here several times over the last 5 years and I never left dissatisfied. \r\n\r\nCome for the popcorn and drinks."
        ],
        [
         "92",
         "Better service and much better prices than the dealership. These guys take great care of your car without sticking it to you price wise like the dealership does. Won't go anywhere else"
        ],
        [
         "95",
         "I love how they have no rice sushi options. They have a pretty good list of sushi and the sauces that they use for it. Food came out at a timely manner and service was not bad."
        ],
        [
         "102",
         "2 of my girlfriends recommended this place so all 3 of us went.... I made sure to have an appetite when I got here..... sushi was mediocre.... what made it TERRIBLE was the service..... we were there for 2 and a half hours because our orders took about 30 min to come out whether it was appetizers or sushi.... our server's excuse was because the bar was full....? So you're telling me your main dining area (which was actually also pretty full ) should SUFFER just because the bar was full????? \r\n\r\n**someone replied to this comment saying to come on a Monday when it's not busy... umm so I have to come a different day to get even mediocre service? No thanks..."
        ],
        [
         "172",
         "Huge Apple Danishes! Unfortunatley huge doesnt mean better. \r\nSo what does Westmall Donuts have to offer? Here you can eat a fattening overpriced danish in a horribly old and decrepid space and wash it all down with a lousy tasting coffee.\r\nDo yourself and your wallet a favour and avoid it!"
        ],
        [
         "179",
         "What a nice and friendly person that answered the phone.  I was looking for a tree nut free cupcake she was unfortunately not able to help me but gave me great advice and was very willing to give me a few suggestions."
        ],
        [
         "180",
         "I have been here 3 1/2 years.   The staff is always smiling and helpful.   Yes it takes maintenance a little longer then they should but it seems like a large place for only 2 guys to handel.   The fitness center needs a little upgrade but I have lived at other places and this is a great place.  I see a few people complaining and name calling which I find childish.  If they hate it so much why don't they move."
        ],
        [
         "182",
         "This place is not just a restaurant has a great bar and a outside deck with one of the best views of Las Vegas. The food is good and selections is limited. Drink are on the expensive side and it is a private club. I would recommend there steak with crab. It has a disco at night at 10 pm the space is small and can be crowded. I would recommend this place and I am going back again."
        ],
        [
         "183",
         "It great fast food and get large portions. It seem to be fresh and the server are friendly. I gone there many time and it alway good. I like their burritos usually it so big can only eat half and save the rest. I am recommending it to all my friends. You can choose what you want with any of the items on the menu."
        ],
        [
         "184",
         "I went there a couple week ago. The service was great small place. I had there osso buco meat it was good so much could only eat half. Wine was good by the glass a Malbec. I and my friend had there seafood soup was very good. I would recommend you try this place"
        ],
        [
         "185",
         "I call them to switch to their service for both TV and Internet. They schedule a service Tech to come out to my home on Saturday between 12 and 2 pm. I was home to make sure I would be there when they arrived. 2 PM no one arrived it was on Saturday I tried to call there service. There office was closed and no way to get a hold of anyone. Now I still waited to 4 PM still no call finally I got a call but it said un know number. I got a message they were at my service box again no one was even close to my home. I called them Monday morning asking what was the problem they told me I could not get service for TV in my area really. After they had schedule a appointment and there customer service people did not even know they could not give me these services. I wasted a whole Saturday waiting for these people. Their customer service is horrible do not waist your time. Now I know why they have such a low rating."
        ],
        [
         "186",
         "Great fast food restaurant large portions. The food is good taste and great bargains. The service is good the restaurant is clean. I had the Teriyaki hot chicken with rice and steam vegetables. Had enough food for two meals would recommend this restaurant for familes"
        ],
        [
         "188",
         "I was just at their new store on Cheyenne on Sunday. I wanted a soft mattress Christine gave me a great selection. I told her I only wanted to spend up to $1200 dollars. I had more than 4 choices all were less than I had planned. I had checked other stores first and the mattress I got was equal or even better at half the price. They even gave me sheet and cover for the mattress as a bonus for shopping at the new store. I did not realize they also sold furniture pick up a full 5 piece bedroom set. It was just like the ones I had been looked at some of the bigger furniture stores again half the price. I going to tell all my friend check this store first."
        ],
        [
         "189",
         "Its a nice club open air with swimming pools there are two levels of private areas overlooking the pools. The club and bar are small and the dance floor small. It great you have plenty of space where you can relax and talk. Best to go on warm nights total outdoors. Atmosphere is relax and recommend this club"
        ],
        [
         "190",
         "????????????????????????????????????\r\n?????7:30???\r\n?????????????\r\n?????????????????\r\n??????????????????!!\r\n\r\n2????????????????????"
        ],
        [
         "191",
         "????????????????????\r\n???Link Hotel???????\r\n????????????????\r\n????×4 & ???×2 ?????????!!\r\n?????"
        ],
        [
         "192",
         "????????????????????\r\n???????????????????????\r\n\r\n?????????????????????????\r\n????????????????????\r\n???????"
        ],
        [
         "193",
         "???????????????????????????????????\r\nBest Vegas???????????????\r\n????????( _) ??????\r\n???...?\r\n???1??????2?????????\r\n????????????????????????????????????\r\n????????????????????????????????(*´`*)\r\n?????????????????????????????????"
        ],
        [
         "196",
         "Great authentic addition to champaign. Dario and Alessio have done an incredible job and I can't wait to go back again and again!"
        ],
        [
         "260",
         "The best beef kebab EVER!! The meat is so tender and juicey - just be careful not to touch the bottom of the metal skewer when it arrives - it's super hot. Make sure to also order the garlic sauce and red meat sauce for dipping. It's a warm atmosphere with a very friendly staff. I've gotten many friends hooked on this place. 5/5."
        ],
        [
         "269",
         "Anyone looking to have their yard landscaped by this company WATCH OUT!!! This place is horrible to deal with and has NO communication skills!! My job was pushed back for weeks and nothing was communicated to me. On top of that I am now having to report them to my bank as fraud since they have yet to return the upfront money I gave them. Horrible horrible experience all the way around! I wouldn't even give them 1 star but that is the lowest it would allow me to select. I just hope my bank is able to get the money back soon from these rat b@stards!!"
        ],
        [
         "273",
         "Food was very good but service is below par. Wasn't crowded at all but still took forever for someone to seat us. Just a person yelling across the room telling us \"Someone will seat us soon\" I recommend it for the food but don't be in a hurry to be seated."
        ],
        [
         "275",
         "Me and my boyfriend live on the same block and we have to stop ourselves from going there every day. The food and service are amazing!!! It is homemade Indian food full of flavour and made fresh. The owners are lovely people and every time we go there we love spending sometime just chatting with them."
        ],
        [
         "280",
         "Very nice and modern dentist office with a top notch staff!  The experience definitely put my anxiety of going to the dentist at ease."
        ],
        [
         "282",
         "Other Auto shops need to go to these guys and take lessons!!! I went here with my son to get his car repaired....oil change and serpentine belt changed....first off...they have a special for the holiday ALL WORK HALF PRICE......and second...the did the work wihtin 15 minutes.....they were clean...mannerly and  helpful.....VERY KNOWLEDGABLE...other questions about the car were answered intelligently.\r\n\r\nFrom the manager to the ladies in the office...THESE GUYZ ROCK It out!!"
        ],
        [
         "283",
         "I have 3 competitive bird dogs as well as breed occasionally.  Dr Sondel was already the best vet I have had the pleasure of working with.  Now that he he has ventured out on his own he has taken vet care to a new level.  His new clinic rivals modern medical facilities for humans.   Nicest facility I have ever seen!  Jesse is for people that want the most advanced care with an honest/pragmatic approach."
        ],
        [
         "284",
         "Same as other habanero's.  Best damn quesadilla money can buy at a really affordable price."
        ],
        [
         "286",
         "Safe bet for a cheap buffet .  Nothing blew me away but the price is right.  Nice service and cool fish tank."
        ]
       ],
       "shape": {
        "columns": 1,
        "rows": 2610
       }
      },
      "text/plain": [
       "1       I love this place! My fiance And I go here atl...\n",
       "2       Terrible. Dry corn bread. Rib tips were all fa...\n",
       "4       Delicious healthy food. The steak is amazing. ...\n",
       "5       This place sucks. The customer service is horr...\n",
       "10      I have been an Emerald Club member for a numbe...\n",
       "                              ...                        \n",
       "689     Came here with my 2 year old daughter for our ...\n",
       "4874    Great little restaurant. Not to many tables an...\n",
       "564     Always great friendly service and fresh baked ...\n",
       "3458    We were expecting amazing Thai food after all ...\n",
       "4206    Sunday at 8p. Not many people here at all. We ...\n",
       "Name: text, Length: 2610, dtype: object"
      ]
     },
     "execution_count": 21,
     "metadata": {},
     "output_type": "execute_result"
    }
   ],
   "source": [
    "df['text']"
   ]
  },
  {
   "cell_type": "code",
   "execution_count": 28,
   "metadata": {},
   "outputs": [
    {
     "data": {
      "text/plain": [
       "77.06551724137931"
      ]
     },
     "execution_count": 28,
     "metadata": {},
     "output_type": "execute_result"
    }
   ],
   "source": [
    "# Your code here\n",
    "\n",
    "df['text'].map(lambda x: len(x.split())).mean()"
   ]
  },
  {
   "cell_type": "markdown",
   "metadata": {},
   "source": [
    "## Create a new column for the number of words in the review"
   ]
  },
  {
   "cell_type": "code",
   "execution_count": 31,
   "metadata": {},
   "outputs": [
    {
     "data": {
      "application/vnd.microsoft.datawrangler.viewer.v0+json": {
       "columns": [
        {
         "name": "index",
         "rawType": "int64",
         "type": "integer"
        },
        {
         "name": "business_id",
         "rawType": "object",
         "type": "string"
        },
        {
         "name": "cool",
         "rawType": "int64",
         "type": "integer"
        },
        {
         "name": "date",
         "rawType": "object",
         "type": "string"
        },
        {
         "name": "funny",
         "rawType": "int64",
         "type": "integer"
        },
        {
         "name": "review_id",
         "rawType": "object",
         "type": "string"
        },
        {
         "name": "stars",
         "rawType": "int64",
         "type": "integer"
        },
        {
         "name": "text",
         "rawType": "object",
         "type": "string"
        },
        {
         "name": "useful",
         "rawType": "int64",
         "type": "integer"
        },
        {
         "name": "user_id",
         "rawType": "object",
         "type": "string"
        },
        {
         "name": "stars_squared",
         "rawType": "int64",
         "type": "integer"
        },
        {
         "name": "number_of_words",
         "rawType": "int64",
         "type": "integer"
        },
        {
         "name": "Review_num_words",
         "rawType": "int64",
         "type": "integer"
        }
       ],
       "ref": "899ca0c1-b5b3-423a-ae17-e008df476d9d",
       "rows": [
        [
         "1",
         "pomGBqfbxcqPv14c3XH-ZQ",
         "0",
         "2012-11-13",
         "0",
         "dDl8zu1vWPdKGihJrwQbpw",
         "5",
         "I love this place! My fiance And I go here atleast once a week. The portions are huge! Food is amazing. I love their carne asada. They have great lunch specials... Leticia is super nice and cares about what you think of her restaurant. You have to try their cheese enchiladas too the sauce is different And amazing!!!",
         "0",
         "msQe1u7Z_XuqjGoqhB0J5g",
         "25",
         "58",
         "58"
        ],
        [
         "2",
         "jtQARsP6P-LbkyjbO1qNGg",
         "1",
         "2014-10-23",
         "1",
         "LZp4UX5zK3e-c5ZGSeo3kA",
         "1",
         "Terrible. Dry corn bread. Rib tips were all fat and mushy and had no flavor. If you want bbq in this neighborhood go to john mulls roadkill grill. Trust me.",
         "3",
         "msQe1u7Z_XuqjGoqhB0J5g",
         "1",
         "30",
         "30"
        ],
        [
         "4",
         "Ums3gaP2qM3W1XcA5r6SsQ",
         "0",
         "2014-09-05",
         "0",
         "jsDu6QEJHbwP2Blom1PLCA",
         "5",
         "Delicious healthy food. The steak is amazing. Fish and pork are awesome too. Service is above and beyond. Not a bad thing to say about this place. Worth every penny!",
         "0",
         "msQe1u7Z_XuqjGoqhB0J5g",
         "25",
         "30",
         "30"
        ],
        [
         "5",
         "vgfcTvK81oD4r50NMjU2Ag",
         "0",
         "2011-02-25",
         "0",
         "pfavA0hr3nyqO61oupj-lA",
         "1",
         "This place sucks. The customer service is horrible. They dont serve food unless you order a pizza from a neighboring restaurant. Who does that? They dont control their crowd. Many times I've gone I've seen fights. The bartenders suck - I've almost got in a fight with one because she was a complete bitch. Refused to serve me a drink because she was \"busy\" celebrating her friends birthday BEHIND THE BAR. This place is ridiculous. I will NEVER go there again.. EVER.",
         "2",
         "msQe1u7Z_XuqjGoqhB0J5g",
         "1",
         "82",
         "82"
        ],
        [
         "10",
         "yFumR3CWzpfvTH2FCthvVw",
         "0",
         "2016-06-15",
         "0",
         "STiFMww2z31siPY7BWNC2g",
         "5",
         "I have been an Emerald Club member for a number of years.  I have always been very satisfied with their vehicles and customer service.  This recent visit to Pittsburgh was no exception.",
         "0",
         "TlvV-xJhmh7LCwJYXkV-cg",
         "25",
         "32",
         "32"
        ]
       ],
       "shape": {
        "columns": 12,
        "rows": 5
       }
      },
      "text/html": [
       "<div>\n",
       "<style scoped>\n",
       "    .dataframe tbody tr th:only-of-type {\n",
       "        vertical-align: middle;\n",
       "    }\n",
       "\n",
       "    .dataframe tbody tr th {\n",
       "        vertical-align: top;\n",
       "    }\n",
       "\n",
       "    .dataframe thead th {\n",
       "        text-align: right;\n",
       "    }\n",
       "</style>\n",
       "<table border=\"1\" class=\"dataframe\">\n",
       "  <thead>\n",
       "    <tr style=\"text-align: right;\">\n",
       "      <th></th>\n",
       "      <th>business_id</th>\n",
       "      <th>cool</th>\n",
       "      <th>date</th>\n",
       "      <th>funny</th>\n",
       "      <th>review_id</th>\n",
       "      <th>stars</th>\n",
       "      <th>text</th>\n",
       "      <th>useful</th>\n",
       "      <th>user_id</th>\n",
       "      <th>stars_squared</th>\n",
       "      <th>number_of_words</th>\n",
       "      <th>Review_num_words</th>\n",
       "    </tr>\n",
       "  </thead>\n",
       "  <tbody>\n",
       "    <tr>\n",
       "      <th>1</th>\n",
       "      <td>pomGBqfbxcqPv14c3XH-ZQ</td>\n",
       "      <td>0</td>\n",
       "      <td>2012-11-13</td>\n",
       "      <td>0</td>\n",
       "      <td>dDl8zu1vWPdKGihJrwQbpw</td>\n",
       "      <td>5</td>\n",
       "      <td>I love this place! My fiance And I go here atl...</td>\n",
       "      <td>0</td>\n",
       "      <td>msQe1u7Z_XuqjGoqhB0J5g</td>\n",
       "      <td>25</td>\n",
       "      <td>58</td>\n",
       "      <td>58</td>\n",
       "    </tr>\n",
       "    <tr>\n",
       "      <th>2</th>\n",
       "      <td>jtQARsP6P-LbkyjbO1qNGg</td>\n",
       "      <td>1</td>\n",
       "      <td>2014-10-23</td>\n",
       "      <td>1</td>\n",
       "      <td>LZp4UX5zK3e-c5ZGSeo3kA</td>\n",
       "      <td>1</td>\n",
       "      <td>Terrible. Dry corn bread. Rib tips were all fa...</td>\n",
       "      <td>3</td>\n",
       "      <td>msQe1u7Z_XuqjGoqhB0J5g</td>\n",
       "      <td>1</td>\n",
       "      <td>30</td>\n",
       "      <td>30</td>\n",
       "    </tr>\n",
       "    <tr>\n",
       "      <th>4</th>\n",
       "      <td>Ums3gaP2qM3W1XcA5r6SsQ</td>\n",
       "      <td>0</td>\n",
       "      <td>2014-09-05</td>\n",
       "      <td>0</td>\n",
       "      <td>jsDu6QEJHbwP2Blom1PLCA</td>\n",
       "      <td>5</td>\n",
       "      <td>Delicious healthy food. The steak is amazing. ...</td>\n",
       "      <td>0</td>\n",
       "      <td>msQe1u7Z_XuqjGoqhB0J5g</td>\n",
       "      <td>25</td>\n",
       "      <td>30</td>\n",
       "      <td>30</td>\n",
       "    </tr>\n",
       "    <tr>\n",
       "      <th>5</th>\n",
       "      <td>vgfcTvK81oD4r50NMjU2Ag</td>\n",
       "      <td>0</td>\n",
       "      <td>2011-02-25</td>\n",
       "      <td>0</td>\n",
       "      <td>pfavA0hr3nyqO61oupj-lA</td>\n",
       "      <td>1</td>\n",
       "      <td>This place sucks. The customer service is horr...</td>\n",
       "      <td>2</td>\n",
       "      <td>msQe1u7Z_XuqjGoqhB0J5g</td>\n",
       "      <td>1</td>\n",
       "      <td>82</td>\n",
       "      <td>82</td>\n",
       "    </tr>\n",
       "    <tr>\n",
       "      <th>10</th>\n",
       "      <td>yFumR3CWzpfvTH2FCthvVw</td>\n",
       "      <td>0</td>\n",
       "      <td>2016-06-15</td>\n",
       "      <td>0</td>\n",
       "      <td>STiFMww2z31siPY7BWNC2g</td>\n",
       "      <td>5</td>\n",
       "      <td>I have been an Emerald Club member for a numbe...</td>\n",
       "      <td>0</td>\n",
       "      <td>TlvV-xJhmh7LCwJYXkV-cg</td>\n",
       "      <td>25</td>\n",
       "      <td>32</td>\n",
       "      <td>32</td>\n",
       "    </tr>\n",
       "  </tbody>\n",
       "</table>\n",
       "</div>"
      ],
      "text/plain": [
       "               business_id  cool        date  funny               review_id  \\\n",
       "1   pomGBqfbxcqPv14c3XH-ZQ     0  2012-11-13      0  dDl8zu1vWPdKGihJrwQbpw   \n",
       "2   jtQARsP6P-LbkyjbO1qNGg     1  2014-10-23      1  LZp4UX5zK3e-c5ZGSeo3kA   \n",
       "4   Ums3gaP2qM3W1XcA5r6SsQ     0  2014-09-05      0  jsDu6QEJHbwP2Blom1PLCA   \n",
       "5   vgfcTvK81oD4r50NMjU2Ag     0  2011-02-25      0  pfavA0hr3nyqO61oupj-lA   \n",
       "10  yFumR3CWzpfvTH2FCthvVw     0  2016-06-15      0  STiFMww2z31siPY7BWNC2g   \n",
       "\n",
       "    stars                                               text  useful  \\\n",
       "1       5  I love this place! My fiance And I go here atl...       0   \n",
       "2       1  Terrible. Dry corn bread. Rib tips were all fa...       3   \n",
       "4       5  Delicious healthy food. The steak is amazing. ...       0   \n",
       "5       1  This place sucks. The customer service is horr...       2   \n",
       "10      5  I have been an Emerald Club member for a numbe...       0   \n",
       "\n",
       "                   user_id  stars_squared  number_of_words  Review_num_words  \n",
       "1   msQe1u7Z_XuqjGoqhB0J5g             25               58                58  \n",
       "2   msQe1u7Z_XuqjGoqhB0J5g              1               30                30  \n",
       "4   msQe1u7Z_XuqjGoqhB0J5g             25               30                30  \n",
       "5   msQe1u7Z_XuqjGoqhB0J5g              1               82                82  \n",
       "10  TlvV-xJhmh7LCwJYXkV-cg             25               32                32  "
      ]
     },
     "execution_count": 31,
     "metadata": {},
     "output_type": "execute_result"
    }
   ],
   "source": [
    "# Your code here\n",
    "df['Review_num_words']=df['text'].map(lambda x : len(x.split()))\n",
    "df.head()"
   ]
  },
  {
   "cell_type": "markdown",
   "metadata": {},
   "source": [
    "## Rewrite the following as a lambda function\n",
    "\n",
    "Create a new column `'Review_Length'` by applying this lambda function to the `'Review_num_words'` column. "
   ]
  },
  {
   "cell_type": "code",
   "execution_count": 32,
   "metadata": {},
   "outputs": [
    {
     "data": {
      "application/vnd.microsoft.datawrangler.viewer.v0+json": {
       "columns": [
        {
         "name": "index",
         "rawType": "object",
         "type": "string"
        },
        {
         "name": "Review_length",
         "rawType": "int64",
         "type": "integer"
        }
       ],
       "ref": "e3eae36f-f2c8-4eb6-9abd-afb873108f1a",
       "rows": [
        [
         "Short",
         "1287"
        ],
        [
         "Long",
         "769"
        ],
        [
         "Medium",
         "554"
        ]
       ],
       "shape": {
        "columns": 1,
        "rows": 3
       }
      },
      "text/plain": [
       "Short     1287\n",
       "Long       769\n",
       "Medium     554\n",
       "Name: Review_length, dtype: int64"
      ]
     },
     "execution_count": 32,
     "metadata": {},
     "output_type": "execute_result"
    }
   ],
   "source": [
    "# Rewrite the following function as a lambda function\n",
    "def rewrite_as_lambda(value):\n",
    "    if len(value) < 50:\n",
    "        return 'Short'\n",
    "    elif len(value) < 80:\n",
    "        return 'Medium'\n",
    "    else:\n",
    "        return 'Long'\n",
    "# Hint: nest your if, else conditionals\n",
    "\n",
    "df['Review_length'] = df['Review_num_words'].map(lambda x : 'Short' if x < 50 else ('Medium' if x < 80 else 'Long'))\n",
    "\n",
    "df['Review_length'].value_counts()\n"
   ]
  },
  {
   "cell_type": "markdown",
   "metadata": {},
   "source": [
    "## Level Up: Dates Advanced\n",
    "<img src=\"images/world_map.png\" width=\"600\">  \n",
    "\n",
    "Print the first five rows of the `'date'` column. "
   ]
  },
  {
   "cell_type": "code",
   "execution_count": 33,
   "metadata": {},
   "outputs": [
    {
     "data": {
      "application/vnd.microsoft.datawrangler.viewer.v0+json": {
       "columns": [
        {
         "name": "index",
         "rawType": "int64",
         "type": "integer"
        },
        {
         "name": "date",
         "rawType": "object",
         "type": "string"
        }
       ],
       "ref": "ad1839bb-1d90-47c3-8b5a-28a69e6e385c",
       "rows": [
        [
         "1",
         "2012-11-13"
        ],
        [
         "2",
         "2014-10-23"
        ],
        [
         "4",
         "2014-09-05"
        ],
        [
         "5",
         "2011-02-25"
        ],
        [
         "10",
         "2016-06-15"
        ]
       ],
       "shape": {
        "columns": 1,
        "rows": 5
       }
      },
      "text/plain": [
       "1     2012-11-13\n",
       "2     2014-10-23\n",
       "4     2014-09-05\n",
       "5     2011-02-25\n",
       "10    2016-06-15\n",
       "Name: date, dtype: object"
      ]
     },
     "execution_count": 33,
     "metadata": {},
     "output_type": "execute_result"
    }
   ],
   "source": [
    "# Your code here\n",
    "df.date.head()"
   ]
  },
  {
   "cell_type": "markdown",
   "metadata": {},
   "source": [
    "Overwrite the `'date'` column by reordering the month and day from `YYYY-MM-DD` to `DD-MM-YYYY`. Try to do this using a lambda function."
   ]
  },
  {
   "cell_type": "code",
   "execution_count": null,
   "metadata": {},
   "outputs": [
    {
     "data": {
      "application/vnd.microsoft.datawrangler.viewer.v0+json": {
       "columns": [
        {
         "name": "index",
         "rawType": "int64",
         "type": "integer"
        },
        {
         "name": "date",
         "rawType": "object",
         "type": "string"
        }
       ],
       "ref": "fa180538-50fa-446a-b242-dcb15e7b295d",
       "rows": [
        [
         "1",
         "13-11-2012"
        ],
        [
         "2",
         "23-10-2014"
        ],
        [
         "4",
         "05-09-2014"
        ],
        [
         "5",
         "25-02-2011"
        ],
        [
         "10",
         "15-06-2016"
        ]
       ],
       "shape": {
        "columns": 1,
        "rows": 5
       }
      },
      "text/plain": [
       "1     13-11-2012\n",
       "2     23-10-2014\n",
       "4     05-09-2014\n",
       "5     25-02-2011\n",
       "10    15-06-2016\n",
       "Name: date, dtype: object"
      ]
     },
     "execution_count": 34,
     "metadata": {},
     "output_type": "execute_result"
    }
   ],
   "source": [
    "# Your code here\n",
    "df['date'] = df['date'].map(lambda x: '{}-{}-{}'.format(x[-2:], x[5:7], x[:4]))\n",
    "df['date'].head()\n",
    "\n",
    "#Or the code could be\n",
    "#df['date'] = pd.to_datetime(df['date']).dt.strftime('%d-%m-%Y')\n"
   ]
  },
  {
   "cell_type": "markdown",
   "metadata": {},
   "source": [
    "## Summary\n",
    "\n",
    "Hopefully, you're getting the hang of lambda functions now! It's important not to overuse them - it will often make more sense to define a function so that it's reusable elsewhere. But whenever you need to quickly apply some simple processing to a collection of data you have a new technique that will help you to do just that. It'll also be useful if you're reading someone else's code that happens to use lambdas."
   ]
  }
 ],
 "metadata": {
  "kernelspec": {
   "display_name": "learn-env",
   "language": "python",
   "name": "python3"
  },
  "language_info": {
   "codemirror_mode": {
    "name": "ipython",
    "version": 3
   },
   "file_extension": ".py",
   "mimetype": "text/x-python",
   "name": "python",
   "nbconvert_exporter": "python",
   "pygments_lexer": "ipython3",
   "version": "3.8.5"
  }
 },
 "nbformat": 4,
 "nbformat_minor": 2
}
